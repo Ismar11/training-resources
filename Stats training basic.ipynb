{
 "cells": [
  {
   "cell_type": "code",
   "execution_count": 1,
   "metadata": {},
   "outputs": [],
   "source": [
    "from scipy.stats import *\n",
    "import numpy\n",
    "import statsmodels"
   ]
  },
  {
   "cell_type": "code",
   "execution_count": 2,
   "metadata": {},
   "outputs": [],
   "source": [
    "import matplotlib.pyplot as plt\n",
    "import seaborn as sns"
   ]
  },
  {
   "cell_type": "code",
   "execution_count": 3,
   "metadata": {},
   "outputs": [],
   "source": [
    "from ipywidgets import interact, fixed"
   ]
  },
  {
   "cell_type": "markdown",
   "metadata": {},
   "source": [
    "### Discrete population"
   ]
  },
  {
   "cell_type": "code",
   "execution_count": 7,
   "metadata": {},
   "outputs": [],
   "source": [
    "pop = [1]*75 + [2]*30 + [3]*80 + [4]*95"
   ]
  },
  {
   "cell_type": "code",
   "execution_count": 8,
   "metadata": {},
   "outputs": [
    {
     "data": {
      "text/plain": [
       "280"
      ]
     },
     "execution_count": 8,
     "metadata": {},
     "output_type": "execute_result"
    }
   ],
   "source": [
    "len(pop)"
   ]
  },
  {
   "cell_type": "code",
   "execution_count": 11,
   "metadata": {},
   "outputs": [
    {
     "data": {
      "text/plain": [
       "[2.6964285714285716, 3.0]"
      ]
     },
     "execution_count": 11,
     "metadata": {},
     "output_type": "execute_result"
    }
   ],
   "source": [
    "[numpy.mean(pop),\n",
    "numpy.median(pop)]"
   ]
  },
  {
   "cell_type": "code",
   "execution_count": 12,
   "metadata": {},
   "outputs": [
    {
     "data": {
      "text/plain": [
       "[<matplotlib.lines.Line2D at 0x287e1340b48>]"
      ]
     },
     "execution_count": 12,
     "metadata": {},
     "output_type": "execute_result"
    },
    {
     "data": {
      "image/png": "[encoded data removed]",
      "text/plain": [
       "<Figure size 432x288 with 1 Axes>"
      ]
     },
     "metadata": {
      "needs_background": "light"
     },
     "output_type": "display_data"
    }
   ],
   "source": [
    "plt.hist(pop)\n",
    "plt.plot([numpy.mean(pop)] * 2, [0, 100], 'k--')\n",
    "plt.plot([numpy.median(pop)] * 2, [0, 100], 'r--')"
   ]
  },
  {
   "cell_type": "markdown",
   "metadata": {},
   "source": [
    "### Continuous population \n",
    "\n",
    "Assumed a normal PDF, where 'assumed' is a big word carrying a lot of assumptions and even phylosofical issues such as,\n",
    "\n",
    "- X samples are i.i.d\n",
    "- etc."
   ]
  },
  {
   "cell_type": "markdown",
   "metadata": {},
   "source": [
    "Explain Gaussian PDF and quantile function to bound the range\n",
    "\n",
    "$$\\epsilon = {1 \\over 10 ^ {a}}$$"
   ]
  },
  {
   "cell_type": "code",
   "execution_count": 4,
   "metadata": {},
   "outputs": [
    {
     "data": {
      "application/vnd.jupyter.widget-view+json": {
       "model_id": "3a6cfc63cad342d69149e59df7d40efa",
       "version_major": 2,
       "version_minor": 0
      },
      "text/plain": [
       "interactive(children=(FloatSlider(value=1.0, description='a', max=16.0, min=1.0, step=1.0), Output()), _dom_cl…"
      ]
     },
     "metadata": {},
     "output_type": "display_data"
    }
   ],
   "source": [
    "@interact(a = (1.0, 16.0, 1.0), n = fixed(1000))\n",
    "def plot_population_distribution(n, a = 1.0):\n",
    "#     n = 1000\n",
    "    epsilon = 1.0 / (10.0 ** a)\n",
    "    x = numpy.linspace(norm.ppf(epsilon), norm.ppf(1 - epsilon), n)   \n",
    "    plt.figure(figsize=(12, 5))\n",
    "    plt.plot(x, norm.pdf(x));\n",
    "    plt.text(norm.ppf(epsilon)*0.8, norm.pdf(x).max(), r'$\\epsilon = {}$'.format(epsilon), \n",
    "             ha=\"center\", \n",
    "             va=\"center\", \n",
    "             size=12)"
   ]
  },
  {
   "cell_type": "markdown",
   "metadata": {},
   "source": [
    "### Samples"
   ]
  },
  {
   "cell_type": "markdown",
   "metadata": {},
   "source": [
    "#### Scaling and sizing the standard normal N(0,1)"
   ]
  },
  {
   "cell_type": "code",
   "execution_count": 5,
   "metadata": {},
   "outputs": [
    {
     "data": {
      "application/vnd.jupyter.widget-view+json": {
       "model_id": "baff4ebca9d24c25b185a3a915edc017",
       "version_major": 2,
       "version_minor": 0
      },
      "text/plain": [
       "interactive(children=(IntSlider(value=1000, description='n', max=10000, min=2, step=200), IntSlider(value=1, d…"
      ]
     },
     "metadata": {},
     "output_type": "display_data"
    }
   ],
   "source": [
    "n = 10000\n",
    "epsilon = 1e-3\n",
    "max_pop_mean = 3\n",
    "max_pop_std = 5\n",
    "x_range = [norm.ppf(epsilon, loc = -max_pop_mean, scale = max_pop_std), \n",
    "           norm.ppf(1 - epsilon, loc = max_pop_mean, scale = max_pop_std)]\n",
    "\n",
    "@interact(n = (2, n, 200), std = (1, max_pop_std, 1), mean = (-max_pop_mean, max_pop_mean, 1))\n",
    "def plot_sample_histogram(n = 1000, std = 1, mean = 0):\n",
    "    X = norm.rvs(loc = mean, scale = std, size = n)\n",
    "    fig, axs = plt.subplots(1, 2, figsize=(15, 5), sharey = True, gridspec_kw = {'width_ratios': [1, 3]})\n",
    "    axs[0].set_ylim(x_range)\n",
    "    counts, bins, bars = axs[0].hist(X, bins = 'auto', orientation = 'horizontal')\n",
    "    axs[1].plot(X)\n",
    "    axs[1].plot([0, n], [mean] * 2, 'k--');\n",
    "    axs[0].plot([0, counts.max() * (1 + .12)], [mean] * 2,'k--');"
   ]
  },
  {
   "cell_type": "markdown",
   "metadata": {},
   "source": [
    "__TODO__: Add fixed line at 0, change color and join both plots in subplots"
   ]
  }
 ],
 "metadata": {
  "hide_input": false,
  "kernelspec": {
   "display_name": "Python 3",
   "language": "python",
   "name": "python3"
  },
  "language_info": {
   "codemirror_mode": {
    "name": "ipython",
    "version": 3
   },
   "file_extension": ".py",
   "mimetype": "text/x-python",
   "name": "python",
   "nbconvert_exporter": "python",
   "pygments_lexer": "ipython3",
   "version": "3.7.7"
  },
  "toc": {
   "base_numbering": 1,
   "nav_menu": {},
   "number_sections": true,
   "sideBar": true,
   "skip_h1_title": true,
   "title_cell": "Table of Contents",
   "title_sidebar": "Contents",
   "toc_cell": false,
   "toc_position": {
    "height": "calc(100% - 180px)",
    "left": "10px",
    "top": "150px",
    "width": "262px"
   },
   "toc_section_display": true,
   "toc_window_display": true
  }
 },
 "nbformat": 4,
 "nbformat_minor": 2
}
