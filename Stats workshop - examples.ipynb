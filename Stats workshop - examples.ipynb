{
 "cells": [
  {
   "cell_type": "markdown",
   "metadata": {},
   "source": [
    "# Packages\n",
    "\n",
    "Packages are pre-built python 'pieces' that we can install and import into our workspace for making our life easier. There's a vast variety of packages in the world. Here we'll be using few of the most common ones when it comes to data analysis and visualization.\n",
    "\n",
    "- **pandas:** A very popular tabular data manipulation library. It will allow us to format and work our your data with table-like objects named data frames.\n",
    "- **numpy:** Numerical analysis library with a wide range of mathematical libraries and matrix operations. If you have used Matlab before this one will look familiar.\n",
    "- **scipy:** Another important package composed of numerical libraries, part of the same ecosystem that compiles pandas and numpy. We'll be using the stats functions here. \n",
    "- **widgets:** It will enable interactive controls in order to tweak the plots.\n",
    "- **matplotlib:** The classic plotting library.\n",
    "- **seaborn:** Built on top of matplotlib, tailored for easy descriptive statistical plots on your data."
   ]
  },
  {
   "cell_type": "code",
   "execution_count": 63,
   "metadata": {},
   "outputs": [],
   "source": [
    "from scipy.stats import *\n",
    "import numpy\n",
    "import statsmodels\n",
    "import pandas"
   ]
  },
  {
   "cell_type": "code",
   "execution_count": 51,
   "metadata": {},
   "outputs": [],
   "source": [
    "import matplotlib.pyplot as plt\n",
    "import seaborn as sns\n",
    "from ipywidgets import interact, fixed\n",
    "%matplotlib inline"
   ]
  },
  {
   "cell_type": "markdown",
   "metadata": {},
   "source": [
    "### Discrete population"
   ]
  },
  {
   "cell_type": "code",
   "execution_count": 54,
   "metadata": {},
   "outputs": [],
   "source": [
    "pop = [1]*75 + [2]*30 + [3]*80 + [4]*95"
   ]
  },
  {
   "cell_type": "code",
   "execution_count": 55,
   "metadata": {},
   "outputs": [
    {
     "data": {
      "text/plain": [
       "280"
      ]
     },
     "execution_count": 55,
     "metadata": {},
     "output_type": "execute_result"
    }
   ],
   "source": [
    "len(pop)"
   ]
  },
  {
   "cell_type": "code",
   "execution_count": 56,
   "metadata": {},
   "outputs": [
    {
     "data": {
      "text/plain": [
       "[2.6964285714285716, 3.0]"
      ]
     },
     "execution_count": 56,
     "metadata": {},
     "output_type": "execute_result"
    }
   ],
   "source": [
    "[numpy.mean(pop),\n",
    "numpy.median(pop)]"
   ]
  },
  {
   "cell_type": "code",
   "execution_count": 57,
   "metadata": {},
   "outputs": [
    {
     "data": {
      "image/png": "[encoded data removed]",
      "text/plain": [
       "<Figure size 720x360 with 1 Axes>"
      ]
     },
     "metadata": {
      "needs_background": "light"
     },
     "output_type": "display_data"
    }
   ],
   "source": [
    "fig, ax = plt.subplots(figsize = (10, 5))\n",
    "ax.hist(pop)\n",
    "ax.plot([numpy.mean(pop)] * 2, [0, 100], 'k--')\n",
    "ax.plot([numpy.median(pop)] * 2, [0, 100], 'r--');"
   ]
  },
  {
   "cell_type": "markdown",
   "metadata": {},
   "source": [
    "### Continuous population \n",
    "\n",
    "Assumed a normal PDF, where 'assumed' is a big word carrying a lot of assumptions and even phylosofical issues such as,\n",
    "\n",
    "- X samples are i.i.d\n",
    "- etc."
   ]
  },
  {
   "cell_type": "markdown",
   "metadata": {},
   "source": [
    "Explain Gaussian PDF and quantile function to bound the range\n",
    "\n",
    "$$\\epsilon = {1 \\over 10 ^ {a}}$$"
   ]
  },
  {
   "cell_type": "code",
   "execution_count": 70,
   "metadata": {},
   "outputs": [
    {
     "data": {
      "application/vnd.jupyter.widget-view+json": {
       "model_id": "a26715a85c0845dab4837a151382774d",
       "version_major": 2,
       "version_minor": 0
      },
      "text/plain": [
       "interactive(children=(FloatSlider(value=1.0, description='a', max=16.0, min=1.0, step=1.0), Output()), _dom_cl…"
      ]
     },
     "metadata": {},
     "output_type": "display_data"
    }
   ],
   "source": [
    "@interact(a = (1.0, 16.0, 1.0), n = fixed(1000))\n",
    "def plot_population_distribution(n, a = 1.0):\n",
    "#     n = 1000\n",
    "    epsilon = 1.0 / (10.0 ** a)\n",
    "    x = numpy.linspace(norm.ppf(epsilon), norm.ppf(1 - epsilon), n)   \n",
    "    plt.figure(figsize=(12, 5))\n",
    "    plt.plot(x, norm.pdf(x));\n",
    "    plt.text(norm.ppf(epsilon)*0.8, norm.pdf(x).max(), r'$\\epsilon = {}$'.format(epsilon), \n",
    "             ha=\"center\", \n",
    "             va=\"center\", \n",
    "             size=12)"
   ]
  },
  {
   "cell_type": "markdown",
   "metadata": {},
   "source": [
    "### Samples"
   ]
  },
  {
   "cell_type": "markdown",
   "metadata": {},
   "source": [
    "#### Scaling and sizing the standard normal N(0,1)"
   ]
  },
  {
   "cell_type": "code",
   "execution_count": 60,
   "metadata": {},
   "outputs": [
    {
     "data": {
      "application/vnd.jupyter.widget-view+json": {
       "model_id": "c3de750bf50d49ed92cd0f056775be30",
       "version_major": 2,
       "version_minor": 0
      },
      "text/plain": [
       "interactive(children=(IntSlider(value=1000, description='n', max=10000, min=2, step=200), IntSlider(value=1, d…"
      ]
     },
     "metadata": {},
     "output_type": "display_data"
    }
   ],
   "source": [
    "n = 10000\n",
    "epsilon = 1e-3\n",
    "max_pop_mean = 3\n",
    "max_pop_std = 5\n",
    "x_range = [norm.ppf(epsilon, loc = -max_pop_mean, scale = max_pop_std), \n",
    "           norm.ppf(1 - epsilon, loc = max_pop_mean, scale = max_pop_std)]\n",
    "\n",
    "@interact(n = (2, n, 200), std = (1, max_pop_std, 1), mean = (-max_pop_mean, max_pop_mean, 1))\n",
    "def plot_sample_histogram(n = 1000, std = 1, mean = 0):\n",
    "    X = norm.rvs(loc = mean, scale = std, size = n)\n",
    "    fig, axs = plt.subplots(1, 2, figsize=(15, 5), sharey = True, gridspec_kw = {'width_ratios': [1, 3]})\n",
    "    axs[0].set_ylim(x_range)\n",
    "    counts, bins, bars = axs[0].hist(X, bins = 'auto', orientation = 'horizontal')\n",
    "    axs[1].plot(X)\n",
    "    axs[1].plot([0, n], [mean] * 2, 'k--');\n",
    "    axs[0].plot([0, counts.max() * (1 + .12)], [mean] * 2,'k--');"
   ]
  },
  {
   "cell_type": "markdown",
   "metadata": {},
   "source": [
    "__TODO__: Add fixed line at 0, change color and join both plots in subplots"
   ]
  },
  {
   "cell_type": "markdown",
   "metadata": {},
   "source": [
    "### Pareto distribution"
   ]
  },
  {
   "cell_type": "code",
   "execution_count": 65,
   "metadata": {},
   "outputs": [],
   "source": [
    "df_bookings = pandas.read_csv(r'./data/bookings_sample_1_suppliers.csv')"
   ]
  },
  {
   "cell_type": "code",
   "execution_count": 71,
   "metadata": {},
   "outputs": [
    {
     "data": {
      "application/vnd.jupyter.widget-view+json": {
       "model_id": "af889f5655474c66b786521e103edba6",
       "version_major": 2,
       "version_minor": 0
      },
      "text/plain": [
       "interactive(children=(IntSlider(value=1000, description='axis_cut', max=66736, min=1, step=100), Output()), _d…"
      ]
     },
     "metadata": {},
     "output_type": "display_data"
    }
   ],
   "source": [
    "y = df_bookings.hotel.value_counts().to_list()\n",
    "x = list(range(1, len(y) + 1))\n",
    "\n",
    "@interact(axis_cut = (1, len(y), 100))\n",
    "def plot_sample_histogram(axis_cut = 1000):\n",
    "    fig, ax = plt.subplots(ncols = 2, nrows = 1, figsize = (12, 5))\n",
    "    ax[1].set_yscale('log', basey=10)\n",
    "    ax[1].set_xscale('log')\n",
    "    ax[1].get_xaxis().get_major_formatter().labelOnlyBase = False\n",
    "    ax[1].get_yaxis().get_major_formatter().labelOnlyBase = False\n",
    "    ax[0].plot(x[0:axis_cut], y[0:axis_cut], 'o-', color = 'orange', alpha=0.6)\n",
    "    ax[1].plot(x[0:axis_cut], y[0:axis_cut]);"
   ]
  },
  {
   "cell_type": "markdown",
   "metadata": {},
   "source": [
    "MLE with scipy\n",
    "\n",
    "__TODO__: fit, etc.\n",
    "\n",
    "QQ plot"
   ]
  },
  {
   "cell_type": "code",
   "execution_count": 152,
   "metadata": {},
   "outputs": [
    {
     "data": {
      "image/png": "[encoded data removed]",
      "text/plain": [
       "<Figure size 432x288 with 1 Axes>"
      ]
     },
     "metadata": {
      "needs_background": "light"
     },
     "output_type": "display_data"
    }
   ],
   "source": [
    "probplot(y, dist='pareto', sparams = 1.88, plot=plt);"
   ]
  },
  {
   "cell_type": "code",
   "execution_count": null,
   "metadata": {},
   "outputs": [],
   "source": []
  }
 ],
 "metadata": {
  "hide_input": false,
  "kernelspec": {
   "display_name": "Python 3",
   "language": "python",
   "name": "python3"
  },
  "language_info": {
   "codemirror_mode": {
    "name": "ipython",
    "version": 3
   },
   "file_extension": ".py",
   "mimetype": "text/x-python",
   "name": "python",
   "nbconvert_exporter": "python",
   "pygments_lexer": "ipython3",
   "version": "3.7.7"
  },
  "toc": {
   "base_numbering": 1,
   "nav_menu": {},
   "number_sections": true,
   "sideBar": true,
   "skip_h1_title": true,
   "title_cell": "Table of Contents",
   "title_sidebar": "Contents",
   "toc_cell": false,
   "toc_position": {
    "height": "calc(100% - 180px)",
    "left": "10px",
    "top": "150px",
    "width": "262px"
   },
   "toc_section_display": true,
   "toc_window_display": true
  },
  "toc-autonumbering": false,
  "toc-showcode": false,
  "toc-showmarkdowntxt": false
 },
 "nbformat": 4,
 "nbformat_minor": 4
}
